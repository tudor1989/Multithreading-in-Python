{
  "nbformat": 4,
  "nbformat_minor": 0,
  "metadata": {
    "colab": {
      "provenance": []
    },
    "kernelspec": {
      "name": "python3",
      "display_name": "Python 3"
    },
    "language_info": {
      "name": "python"
    }
  },
  "cells": [
    {
      "cell_type": "code",
      "source": [
        "import threading\n",
        "print(threading.current_thread())\n",
        "print(threading.current_thread().name)\n",
        "print(threading.current_thread().ident)\n",
        "print(threading.current_thread().is_alive)"
      ],
      "metadata": {
        "colab": {
          "base_uri": "https://localhost:8080/"
        },
        "id": "UGmv7-WTVOsm",
        "outputId": "d4beb15c-992d-4cce-a283-d3a35248be94"
      },
      "execution_count": 4,
      "outputs": [
        {
          "output_type": "stream",
          "name": "stdout",
          "text": [
            "<_MainThread(MainThread, started 132256115134464)>\n",
            "MainThread\n",
            "132256115134464\n",
            "<bound method Thread.is_alive of <_MainThread(MainThread, started 132256115134464)>>\n"
          ]
        }
      ]
    },
    {
      "cell_type": "code",
      "source": [
        "#import the thread class\n",
        "\n",
        "from threading import Thread\n",
        "\n",
        "#create a function containing the code that needs to be executed parallely\n",
        "\n",
        "def display():\n",
        "  for i in range(4):     # this for loop is being taken cared of by the t1 thread\n",
        "    print(\"NTT Data\")\n",
        "\n",
        "#create a new thread\n",
        "\n",
        "t1 = Thread(target = display)\n",
        "\n",
        "#start the thread\n",
        "\n",
        "t1.start()\n",
        "\n",
        "for i in range(5):      # this is being taken care of by the main thread\n",
        "  print(\"Hello World\")"
      ],
      "metadata": {
        "colab": {
          "base_uri": "https://localhost:8080/"
        },
        "id": "4zx7FalrXq-v",
        "outputId": "ce9e67d9-cf87-4eb4-e762-f28bcb5f3d33"
      },
      "execution_count": 12,
      "outputs": [
        {
          "output_type": "stream",
          "name": "stdout",
          "text": [
            "NTT DataHello World\n",
            "Hello World\n",
            "Hello World\n",
            "Hello World\n",
            "Hello World\n",
            "\n",
            "NTT Data\n",
            "NTT Data\n",
            "NTT Data\n"
          ]
        }
      ]
    },
    {
      "cell_type": "code",
      "source": [
        "#import the thread class by passng arguments(args)\n",
        "\n",
        "from threading import Thread\n",
        "\n",
        "#create a function containing the code that needs to be executed parallely\n",
        "\n",
        "def display(n, msg):\n",
        "  for i in range(n):\n",
        "    print(msg)\n",
        "\n",
        "#create a new thread\n",
        "\n",
        "t1 = Thread(target = display, args = (3, \"Bangalore\"))\n",
        "\n",
        "#start the thread\n",
        "\n",
        "t1.start()"
      ],
      "metadata": {
        "colab": {
          "base_uri": "https://localhost:8080/"
        },
        "id": "Q6idhlr9ZCwP",
        "outputId": "8843556b-2b17-4ae6-f40f-31feb6813cb4"
      },
      "execution_count": 13,
      "outputs": [
        {
          "output_type": "stream",
          "name": "stdout",
          "text": [
            "Bangalore\n",
            "Bangalore\n",
            "Bangalore\n"
          ]
        }
      ]
    },
    {
      "cell_type": "code",
      "source": [
        "#import the thread class by passng arguments(args)\n",
        "\n",
        "from threading import Thread\n",
        "\n",
        "#create a function containing the code that needs to be executed parallely\n",
        "\n",
        "def display(n):\n",
        "  for i in range(n):\n",
        "    print(\"NTT Data\")\n",
        "\n",
        "#create a new thread\n",
        "\n",
        "t1 = Thread(target = display, args = (3,))  # when you pass single values in a tuple(), do it with a comma\n",
        "\n",
        "#start the thread\n",
        "\n",
        "t1.start()"
      ],
      "metadata": {
        "colab": {
          "base_uri": "https://localhost:8080/"
        },
        "id": "7HplmAJaaftG",
        "outputId": "d7520abe-1a13-4b54-f69c-fe674e591c9d"
      },
      "execution_count": 15,
      "outputs": [
        {
          "output_type": "stream",
          "name": "stdout",
          "text": [
            "NTT Data\n",
            "NTT Data\n",
            "NTT Data\n"
          ]
        }
      ]
    },
    {
      "cell_type": "code",
      "source": [
        "# print the thread details\n",
        "\n",
        "\n",
        "from threading import Thread , current_thread\n",
        "\n",
        "def display(n, msg):\n",
        "  print(\"t1 thread detais: \", current_thread())\n",
        "  for i in range(n):\n",
        "    print(msg)\n",
        "\n",
        "t1 = Thread(target = display, args=(3, \"Bangalore\"))\n",
        "t1.start()\n",
        "\n",
        "print(\"thread details:\", current_thread())\n",
        "for i in range(4):\n",
        "  print(\"welcome\")\n"
      ],
      "metadata": {
        "colab": {
          "base_uri": "https://localhost:8080/"
        },
        "id": "XOO69NNibdQf",
        "outputId": "825525b5-256b-44d8-c21a-87c034b2e280"
      },
      "execution_count": 23,
      "outputs": [
        {
          "output_type": "stream",
          "name": "stdout",
          "text": [
            "t1 thread detais: thread details: <_MainThread(MainThread, started 132256115134464)>\n",
            "welcome\n",
            "welcome\n",
            "welcome\n",
            "welcome\n",
            " <Thread(Thread-25 (display), started 132255531923008)>\n",
            "Bangalore\n",
            "Bangalore\n",
            "Bangalore\n"
          ]
        }
      ]
    },
    {
      "cell_type": "code",
      "source": [
        "# create threads for instance methods\n",
        "\n",
        "from threading import Thread\n",
        "\n",
        "class Example:\n",
        "  def display(self,n):\n",
        "    for i in range(5):\n",
        "      print(\"hellow world\")\n",
        "\n",
        "e1 = Example()\n",
        "t1 = Thread(target = e1.display, args = (5,))\n",
        "t1.start()\n",
        "\n",
        "for i in range(5):\n",
        "  print(\"welcome\")\n"
      ],
      "metadata": {
        "colab": {
          "base_uri": "https://localhost:8080/"
        },
        "id": "wiLpj5VWfyoZ",
        "outputId": "69dcbc0e-becb-4562-a74a-cfd2ac4d4d47"
      },
      "execution_count": 25,
      "outputs": [
        {
          "output_type": "stream",
          "name": "stdout",
          "text": [
            "hellow world\n",
            "hellow world\n",
            "hellow world\n",
            "hellow world\n",
            "hellow world\n",
            "welcome\n",
            "welcome\n",
            "welcome\n",
            "welcome\n",
            "welcome\n"
          ]
        }
      ]
    },
    {
      "cell_type": "code",
      "source": [
        "# create threadds for static methods\n"
      ],
      "metadata": {
        "id": "ZQAsASgPhOYo"
      },
      "execution_count": null,
      "outputs": []
    },
    {
      "cell_type": "code",
      "source": [
        "# Method 2 creating threads by extending Thread class\n",
        "from time import sleep\n",
        "\n",
        "videos = ['oops','constructor','destructor','file handling']\n",
        "\n",
        "def upload(vid):\n",
        "  for vid in videos:\n",
        "    print(\"start uploading\", vid)\n",
        "    sleep(3)\n",
        "    print(\"finished uploading\")\n",
        "\n",
        "\n",
        "for i in range(4):\n",
        "  sleep(1)\n",
        "  print(\"Checking copyrights\")"
      ],
      "metadata": {
        "colab": {
          "base_uri": "https://localhost:8080/"
        },
        "id": "rma_IBQoiXtM",
        "outputId": "c8007fa0-558e-4f7f-b64e-201c957ee80e"
      },
      "execution_count": 32,
      "outputs": [
        {
          "output_type": "stream",
          "name": "stdout",
          "text": [
            "Checking copyrights\n",
            "Checking copyrights\n",
            "Checking copyrights\n",
            "Checking copyrights\n"
          ]
        }
      ]
    },
    {
      "cell_type": "code",
      "source": [
        "from time import sleep\n",
        "\n",
        "class Myclass(Thread):\n",
        "  def run (self):\n",
        "    for vid in videos:\n",
        "      print(\"start uploading\",vid)\n",
        "      sleep(3)\n",
        "      print(\"finished uploading\",vid)\n",
        "\n",
        "t1 = Myclass()\n",
        "t1.start\n",
        "\n",
        "for i in range(4):\n",
        "  sleep(1)\n",
        "  print(\"checked copyrights\")"
      ],
      "metadata": {
        "colab": {
          "base_uri": "https://localhost:8080/"
        },
        "id": "z2gHlQ6ijKL9",
        "outputId": "f839ac93-402b-491a-c158-6c118b3a285a"
      },
      "execution_count": 33,
      "outputs": [
        {
          "output_type": "stream",
          "name": "stdout",
          "text": [
            "checked copyrights\n",
            "checked copyrights\n",
            "checked copyrights\n",
            "checked copyrights\n"
          ]
        }
      ]
    },
    {
      "cell_type": "code",
      "source": [
        "from threading import Thread\n",
        "\n",
        "def display():\n",
        "  a = 10\n",
        "  b = 20\n",
        "  return a+b\n",
        "\n",
        "t1 = Thread(target = display)\n",
        "print(t1.start())"
      ],
      "metadata": {
        "colab": {
          "base_uri": "https://localhost:8080/"
        },
        "id": "gaZX2jzBkomd",
        "outputId": "e7c39266-2e2e-4efe-e058-b846b7ed0a3f"
      },
      "execution_count": 34,
      "outputs": [
        {
          "output_type": "stream",
          "name": "stdout",
          "text": [
            "None\n"
          ]
        }
      ]
    },
    {
      "cell_type": "code",
      "source": [
        "class Myclass(Thread):\n",
        "\n",
        "  def run(self):\n",
        "    a=20\n",
        "    b=30\n",
        "    self.temp = a+b\n",
        "\n",
        "t1 = Myclass()\n",
        "t1.start()\n",
        "print(t1.temp)"
      ],
      "metadata": {
        "colab": {
          "base_uri": "https://localhost:8080/"
        },
        "id": "kjSBxakRlGQR",
        "outputId": "69715535-376a-4fec-c836-9de864d9fc96"
      },
      "execution_count": 35,
      "outputs": [
        {
          "output_type": "stream",
          "name": "stdout",
          "text": [
            "50\n"
          ]
        }
      ]
    }
  ]
}